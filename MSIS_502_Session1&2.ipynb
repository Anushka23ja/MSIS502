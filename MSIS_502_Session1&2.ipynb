{
  "nbformat": 4,
  "nbformat_minor": 0,
  "metadata": {
    "colab": {
      "provenance": [],
      "authorship_tag": "ABX9TyP8v3d2a396gz3+hT2z+J3b",
      "include_colab_link": true
    },
    "kernelspec": {
      "name": "python3",
      "display_name": "Python 3"
    },
    "language_info": {
      "name": "python"
    }
  },
  "cells": [
    {
      "cell_type": "markdown",
      "metadata": {
        "id": "view-in-github",
        "colab_type": "text"
      },
      "source": [
        "<a href=\"https://colab.research.google.com/github/Anushka23ja/MSIS502/blob/main/MSIS_502_Session1%262.ipynb\" target=\"_parent\"><img src=\"https://colab.research.google.com/assets/colab-badge.svg\" alt=\"Open In Colab\"/></a>"
      ]
    },
    {
      "cell_type": "markdown",
      "source": [
        "1.  Python as a calculator"
      ],
      "metadata": {
        "id": "9Wt6CV_wA9Zh"
      }
    },
    {
      "cell_type": "code",
      "execution_count": null,
      "metadata": {
        "colab": {
          "base_uri": "https://localhost:8080/"
        },
        "id": "uoBYLHYzt4xM",
        "outputId": "a0b6c6ce-d282-4d9e-b828-b09a5b29341d"
      },
      "outputs": [
        {
          "output_type": "execute_result",
          "data": {
            "text/plain": [
              "3"
            ]
          },
          "metadata": {},
          "execution_count": 3
        }
      ],
      "source": [
        "2+1"
      ]
    },
    {
      "cell_type": "code",
      "source": [
        "2**3"
      ],
      "metadata": {
        "colab": {
          "base_uri": "https://localhost:8080/"
        },
        "id": "m_4d1lAmugGf",
        "outputId": "4d8c50ba-6e2a-4288-b3c8-c0732eb26c6d"
      },
      "execution_count": null,
      "outputs": [
        {
          "output_type": "execute_result",
          "data": {
            "text/plain": [
              "8"
            ]
          },
          "metadata": {},
          "execution_count": 4
        }
      ]
    },
    {
      "cell_type": "code",
      "source": [
        "3/10"
      ],
      "metadata": {
        "colab": {
          "base_uri": "https://localhost:8080/"
        },
        "id": "p9I3fmLsugOZ",
        "outputId": "8b15ec42-ed43-41f7-b0ad-ed2f59ee6164"
      },
      "execution_count": null,
      "outputs": [
        {
          "output_type": "execute_result",
          "data": {
            "text/plain": [
              "0.3"
            ]
          },
          "metadata": {},
          "execution_count": 5
        }
      ]
    },
    {
      "cell_type": "markdown",
      "source": [
        "1.1 Assigning Values to Variables"
      ],
      "metadata": {
        "id": "SoxjuyXqA4P7"
      }
    },
    {
      "cell_type": "code",
      "source": [
        "counter = 100 # An integer assignment\n",
        "miles = 1000.0 # A floating point\n",
        "name = \"John\" # A string\n",
        "\n",
        "print(counter)\n",
        "print(miles)\n",
        "print(name)"
      ],
      "metadata": {
        "colab": {
          "base_uri": "https://localhost:8080/"
        },
        "id": "qqxalkl9uV21",
        "outputId": "52663b0e-4a31-43bc-bfae-713523a935d7"
      },
      "execution_count": null,
      "outputs": [
        {
          "output_type": "stream",
          "name": "stdout",
          "text": [
            "100\n",
            "1000.0\n",
            "John\n"
          ]
        }
      ]
    },
    {
      "cell_type": "code",
      "source": [
        "a = 1\n",
        "b = 2\n",
        "print(a,b)"
      ],
      "metadata": {
        "colab": {
          "base_uri": "https://localhost:8080/"
        },
        "id": "AQPj-Tpjujp_",
        "outputId": "f125d86c-b8d0-4fc6-95b7-475851b7f035"
      },
      "execution_count": null,
      "outputs": [
        {
          "output_type": "stream",
          "name": "stdout",
          "text": [
            "1 2\n"
          ]
        }
      ]
    },
    {
      "cell_type": "code",
      "source": [
        "# Arithmetic with variables\n",
        "print(a + b)\n",
        "print(a + 10)\n",
        "print(a/b)"
      ],
      "metadata": {
        "colab": {
          "base_uri": "https://localhost:8080/"
        },
        "id": "rQ5yOamaumhb",
        "outputId": "1182614f-0435-4c48-9b21-d448f4ff172b"
      },
      "execution_count": null,
      "outputs": [
        {
          "output_type": "stream",
          "name": "stdout",
          "text": [
            "3\n",
            "11\n",
            "0.5\n"
          ]
        }
      ]
    },
    {
      "cell_type": "code",
      "source": [
        "# create variable c\n",
        "c = a + b\n",
        "print(c)"
      ],
      "metadata": {
        "colab": {
          "base_uri": "https://localhost:8080/"
        },
        "id": "Gz37auemupB3",
        "outputId": "dce99070-ac2a-4777-bf20-e862bd4cb918"
      },
      "execution_count": null,
      "outputs": [
        {
          "output_type": "stream",
          "name": "stdout",
          "text": [
            "3\n"
          ]
        }
      ]
    },
    {
      "cell_type": "code",
      "source": [
        "my_variable = 10\n",
        "print(my_variable)"
      ],
      "metadata": {
        "colab": {
          "base_uri": "https://localhost:8080/"
        },
        "id": "RHCfJUo0urpx",
        "outputId": "141034bf-72a3-49ca-b2b6-b5295d660150"
      },
      "execution_count": null,
      "outputs": [
        {
          "output_type": "stream",
          "name": "stdout",
          "text": [
            "10\n"
          ]
        }
      ]
    },
    {
      "cell_type": "markdown",
      "source": [
        "2.2 Python Lists"
      ],
      "metadata": {
        "id": "y03wkftSFk3P"
      }
    },
    {
      "cell_type": "code",
      "source": [
        "# A list is a compound data type, you can group values together\n",
        "a = 10\n",
        "my_list = [ a, 'abcd', 786 , 2.23, 'john']\n",
        "print(my_list)"
      ],
      "metadata": {
        "colab": {
          "base_uri": "https://localhost:8080/"
        },
        "id": "Rtw2ShCvuy7I",
        "outputId": "f8affbc9-21ec-4288-8df4-39940c90bdcb"
      },
      "execution_count": null,
      "outputs": [
        {
          "output_type": "stream",
          "name": "stdout",
          "text": [
            "[10, 'abcd', 786, 2.23, 'john']\n"
          ]
        }
      ]
    },
    {
      "cell_type": "code",
      "source": [
        "tinylist = [123, 'john']\n",
        "print(tinylist * 2) # Prints list two times\n",
        "print(my_list + tinylist) # Prints concatenated lists"
      ],
      "metadata": {
        "colab": {
          "base_uri": "https://localhost:8080/"
        },
        "id": "eW0FhV3Ju597",
        "outputId": "358f7964-9d07-4a95-f5de-f0d3c02556bd"
      },
      "execution_count": null,
      "outputs": [
        {
          "output_type": "stream",
          "name": "stdout",
          "text": [
            "[123, 'john', 123, 'john']\n",
            "[10, 'abcd', 786, 2.23, 'john', 123, 'john']\n"
          ]
        }
      ]
    },
    {
      "cell_type": "code",
      "source": [
        "print(my_list) # Prints complete list\n",
        "print(my_list[0]) # Prints first element of the list\n",
        "print(my_list[1:3]) # Prints elements starting from 2nd till 3rd\n",
        "print(my_list[2:]) # Prints elements starting from 3rd element\n",
        "print(my_list[2:-1]) #IF YOU WANT THE VERY LAST VALUE print(my_list[2])\n",
        "print(my_list[2])\n",
        "print(my_list[-1]) # Prints the last element\n",
        "print(my_list[-3:-1])"
      ],
      "metadata": {
        "colab": {
          "base_uri": "https://localhost:8080/"
        },
        "id": "HCSGA_jQu7-8",
        "outputId": "6fdc7603-ad84-477b-9234-ef4668fdd8d9"
      },
      "execution_count": null,
      "outputs": [
        {
          "output_type": "stream",
          "name": "stdout",
          "text": [
            "[10, 'abcd', 786, 2.23, 'john']\n",
            "10\n",
            "['abcd', 786]\n",
            "[786, 2.23, 'john']\n",
            "[786, 2.23]\n",
            "786\n",
            "john\n",
            "[786, 2.23]\n"
          ]
        }
      ]
    },
    {
      "cell_type": "code",
      "source": [
        "# Variables can also be used as indexing\n",
        "myStart = 2\n",
        "print(my_list[myStart])\n",
        "# get the length of a list\n",
        "len(my_list)"
      ],
      "metadata": {
        "id": "O0mzD6f4vA0s",
        "outputId": "676dbef0-a10e-402a-a7ff-5695aa31f479",
        "colab": {
          "base_uri": "https://localhost:8080/"
        }
      },
      "execution_count": null,
      "outputs": [
        {
          "output_type": "stream",
          "name": "stdout",
          "text": [
            "786\n"
          ]
        },
        {
          "output_type": "execute_result",
          "data": {
            "text/plain": [
              "5"
            ]
          },
          "metadata": {},
          "execution_count": 14
        }
      ]
    },
    {
      "cell_type": "markdown",
      "source": [
        "Practice Problem"
      ],
      "metadata": {
        "id": "PABEF28lRF8w"
      }
    },
    {
      "cell_type": "code",
      "source": [
        "ad_spend = [\"Monday\", 120.0, \"Tuesday\", 150.5, \"Wednesday\", 135.0, \"Thursday\", 160.0, \"Friday\", 175.5, \"Saturday\", 190.0, \"Sunday\", 145.0]\n",
        "weekday_spend = ad_spend[:10]\n",
        "weekend_spend = ad_spend[10:]\n",
        "print(weekday_spend)\n",
        "print(weekend_spend)"
      ],
      "metadata": {
        "id": "uN61u9ZuvDle",
        "colab": {
          "base_uri": "https://localhost:8080/"
        },
        "outputId": "70675071-c20d-4f4f-ae33-a0754b7cd2cd"
      },
      "execution_count": null,
      "outputs": [
        {
          "output_type": "stream",
          "name": "stdout",
          "text": [
            "['Monday', 120.0, 'Tuesday', 150.5, 'Wednesday', 135.0, 'Thursday', 160.0, 'Friday', 175.5]\n",
            "['Saturday', 190.0, 'Sunday', 145.0]\n"
          ]
        }
      ]
    },
    {
      "cell_type": "markdown",
      "source": [],
      "metadata": {
        "id": "_nPJOXjPulZW"
      }
    },
    {
      "cell_type": "markdown",
      "source": [
        "2.2.3 List Manipulation"
      ],
      "metadata": {
        "id": "0AIlxV0DRKEc"
      }
    },
    {
      "cell_type": "code",
      "source": [
        "x = ['a', 'b', 'c', 'd']\n",
        "x[1] = 'r'\n",
        "x[2:] = ['s', 't']\n",
        "print(x)"
      ],
      "metadata": {
        "colab": {
          "base_uri": "https://localhost:8080/"
        },
        "id": "Br9ktmdaRHFf",
        "outputId": "7fbcf68f-a6f3-4109-b11d-64e3f6e11d5e"
      },
      "execution_count": null,
      "outputs": [
        {
          "output_type": "stream",
          "name": "stdout",
          "text": [
            "['a', 'r', 's', 't']\n"
          ]
        }
      ]
    },
    {
      "cell_type": "code",
      "source": [
        "x = ['a', 'b', 'c', 'd']\n",
        "y = x + ['e', 'f']\n",
        "print(y)"
      ],
      "metadata": {
        "colab": {
          "base_uri": "https://localhost:8080/"
        },
        "id": "c1nOIh54SYzA",
        "outputId": "9e5e9d3d-0ccf-4394-a489-b17bb5288c11"
      },
      "execution_count": null,
      "outputs": [
        {
          "output_type": "stream",
          "name": "stdout",
          "text": [
            "['a', 'b', 'c', 'd', 'e', 'f']\n"
          ]
        }
      ]
    },
    {
      "cell_type": "markdown",
      "source": [
        "3. Packages"
      ],
      "metadata": {
        "id": "OjFqd4WlSbIa"
      }
    },
    {
      "cell_type": "code",
      "source": [
        "import math"
      ],
      "metadata": {
        "id": "czv7J11lSeAt"
      },
      "execution_count": null,
      "outputs": []
    },
    {
      "cell_type": "code",
      "source": [
        "math.pi #math/A/B/C/pi --> math.A.B.C.pi"
      ],
      "metadata": {
        "colab": {
          "base_uri": "https://localhost:8080/"
        },
        "id": "asE4B3usTCUc",
        "outputId": "2fc4651b-a9a9-4d06-bc84-f2cf6f078bef"
      },
      "execution_count": null,
      "outputs": [
        {
          "output_type": "execute_result",
          "data": {
            "text/plain": [
              "3.141592653589793"
            ]
          },
          "metadata": {},
          "execution_count": 30
        }
      ]
    },
    {
      "cell_type": "code",
      "source": [
        "r = 0.3\n",
        "area = math.pi * r * r\n",
        "print(area)"
      ],
      "metadata": {
        "colab": {
          "base_uri": "https://localhost:8080/"
        },
        "id": "QWxjoBQaTvtD",
        "outputId": "fb3375f8-32f3-421d-cc70-15da39b7a340"
      },
      "execution_count": null,
      "outputs": [
        {
          "output_type": "stream",
          "name": "stdout",
          "text": [
            "0.2827433388230814\n"
          ]
        }
      ]
    },
    {
      "cell_type": "code",
      "source": [
        "from math import pi\n",
        "r = 0.3\n",
        "area = pi * r * r\n",
        "print(area)"
      ],
      "metadata": {
        "colab": {
          "base_uri": "https://localhost:8080/"
        },
        "id": "gZGBX9zYT4eG",
        "outputId": "d6093dff-7afa-4c56-e8fd-03739c019170"
      },
      "execution_count": null,
      "outputs": [
        {
          "output_type": "stream",
          "name": "stdout",
          "text": [
            "0.2827433388230814\n"
          ]
        }
      ]
    },
    {
      "cell_type": "markdown",
      "source": [
        "Practice Problem"
      ],
      "metadata": {
        "id": "ZgHfgchsUN3A"
      }
    },
    {
      "cell_type": "code",
      "source": [
        "from math import sqrt\n",
        "num = 10\n",
        "tot = sqrt(num)\n",
        "print(tot)"
      ],
      "metadata": {
        "colab": {
          "base_uri": "https://localhost:8080/"
        },
        "id": "hoxGwE1HUQQ_",
        "outputId": "a9027778-2e16-4322-acce-7e1ae8d55e1d"
      },
      "execution_count": null,
      "outputs": [
        {
          "output_type": "stream",
          "name": "stdout",
          "text": [
            "3.1622776601683795\n"
          ]
        }
      ]
    },
    {
      "cell_type": "markdown",
      "source": [
        "4. NumPy"
      ],
      "metadata": {
        "id": "zB7Se55_V6qK"
      }
    },
    {
      "cell_type": "code",
      "source": [
        "import numpy as np\n",
        "\n",
        "# the list length represents the length of some rectangles\n",
        "# the list width represents the width of some rectangles\n",
        "length = [2, 4, 6, 8]\n",
        "width = [1.4, 3.2, 1, 6]\n",
        "\n",
        "# we want to calculate area of the rectangles\n",
        "# Convert lists to NumPy arrays for element-wise multiplication\n",
        "length_np = np.array(length)\n",
        "width_np = np.array(width)\n",
        "\n",
        "area = length_np * width_np\n",
        "print(\"Area of rectangles:\", area)\n",
        "\n",
        "# or double the length of every rectangle\n",
        "doubled_length = length_np * 2\n",
        "print(\"Doubled length:\", doubled_length)"
      ],
      "metadata": {
        "colab": {
          "base_uri": "https://localhost:8080/"
        },
        "id": "5fFyzle_V9BY",
        "outputId": "ed4a36f1-df5a-4323-ec35-093d136f049f"
      },
      "execution_count": null,
      "outputs": [
        {
          "output_type": "stream",
          "name": "stdout",
          "text": [
            "Area of rectangles: [ 2.8 12.8  6.  48. ]\n",
            "Doubled length: [ 4  8 12 16]\n"
          ]
        }
      ]
    },
    {
      "cell_type": "code",
      "source": [
        "import numpy as np # you can now refer to numpy as np\n",
        "# use np.array() to create a numpy array from length.\n",
        "np_length = np.array(length) # np.array is a function to do the type conversion\n",
        "print(np_length)"
      ],
      "metadata": {
        "colab": {
          "base_uri": "https://localhost:8080/"
        },
        "id": "vke0s7jKWIjH",
        "outputId": "8977ce70-5790-4114-aa30-ae7a5d2f7672"
      },
      "execution_count": null,
      "outputs": [
        {
          "output_type": "stream",
          "name": "stdout",
          "text": [
            "[2 4 6 8]\n"
          ]
        }
      ]
    },
    {
      "cell_type": "code",
      "source": [
        "print(np_length + 1)"
      ],
      "metadata": {
        "colab": {
          "base_uri": "https://localhost:8080/"
        },
        "id": "O439B-6iWkfy",
        "outputId": "61b4fa67-a44b-4fbf-abfd-524faa281c0e"
      },
      "execution_count": null,
      "outputs": [
        {
          "output_type": "stream",
          "name": "stdout",
          "text": [
            "[3 5 7 9]\n"
          ]
        }
      ]
    },
    {
      "cell_type": "code",
      "source": [
        "print (np_length * 2)"
      ],
      "metadata": {
        "colab": {
          "base_uri": "https://localhost:8080/"
        },
        "id": "rM-bd5v2Xgs_",
        "outputId": "d5b9ab0d-ddd5-46d0-8d82-bd68c179ce69"
      },
      "execution_count": null,
      "outputs": [
        {
          "output_type": "stream",
          "name": "stdout",
          "text": [
            "[ 4  8 12 16]\n"
          ]
        }
      ]
    },
    {
      "cell_type": "code",
      "source": [
        "print(np_length)\n",
        "print(width_np)"
      ],
      "metadata": {
        "colab": {
          "base_uri": "https://localhost:8080/"
        },
        "id": "cQZhDR5eXkV5",
        "outputId": "c6c6579d-b0d7-44b8-e4cc-691152ab1a0a"
      },
      "execution_count": null,
      "outputs": [
        {
          "output_type": "stream",
          "name": "stdout",
          "text": [
            "[2 4 6 8]\n",
            "[1.4 3.2 1.  6. ]\n"
          ]
        }
      ]
    },
    {
      "cell_type": "code",
      "source": [
        "np_width = np.array(width)\n",
        "area = np_length * np_width\n",
        "print(area)\n",
        "print(np_width)"
      ],
      "metadata": {
        "colab": {
          "base_uri": "https://localhost:8080/"
        },
        "id": "Q7-DiMnpXvQK",
        "outputId": "69695dc6-88e0-4d1b-ec4e-8793806dc48a"
      },
      "execution_count": null,
      "outputs": [
        {
          "output_type": "stream",
          "name": "stdout",
          "text": [
            "[ 2.8 12.8  6.  48. ]\n",
            "[1.4 3.2 1.  6. ]\n"
          ]
        }
      ]
    },
    {
      "cell_type": "markdown",
      "source": [
        "Practice Problem"
      ],
      "metadata": {
        "id": "aYksq7wlYDA7"
      }
    },
    {
      "cell_type": "code",
      "source": [
        "ad_spend = [1200, 950, 1600, 870, 1320]\n",
        "revenue_local = [3000, 2200, 4100, 1900, 3400]\n",
        "exchange_rates = [1.0, 0.85, 1.1, 0.9, 1.2]"
      ],
      "metadata": {
        "id": "bXHWFri3YFkg"
      },
      "execution_count": null,
      "outputs": []
    },
    {
      "cell_type": "markdown",
      "source": [],
      "metadata": {
        "id": "YTYYyIM0Xgf-"
      }
    },
    {
      "cell_type": "code",
      "source": [
        "spend_usd = np.array(ad_spend)\n",
        "revenue_usd = np.array(revenue_local)\n",
        "roi = (revenue_usd - spend_usd) / spend_usd\n",
        "print(roi)"
      ],
      "metadata": {
        "colab": {
          "base_uri": "https://localhost:8080/"
        },
        "id": "YFSUYE8vabS8",
        "outputId": "20f7f177-a277-4620-f68b-dc691e057e29"
      },
      "execution_count": null,
      "outputs": [
        {
          "output_type": "stream",
          "name": "stdout",
          "text": [
            "[1.5        1.31578947 1.5625     1.18390805 1.57575758]\n"
          ]
        }
      ]
    },
    {
      "cell_type": "markdown",
      "source": [
        "4.2 Numpy array indexing and slicing"
      ],
      "metadata": {
        "id": "bFZI98VcbLzm"
      }
    },
    {
      "cell_type": "code",
      "source": [
        "x = [4 , 9 , 6, 3, 1]\n",
        "print(x[1])\n",
        "y = np.array(x)\n",
        "print(y[1])\n",
        "print(y[1:3])\n",
        "print(y[3:])\n",
        "print(y[-2])"
      ],
      "metadata": {
        "colab": {
          "base_uri": "https://localhost:8080/"
        },
        "id": "Daq3il1obObF",
        "outputId": "a21f0633-6ce7-4441-f304-c3e44e77a5ff"
      },
      "execution_count": null,
      "outputs": [
        {
          "output_type": "stream",
          "name": "stdout",
          "text": [
            "9\n",
            "9\n",
            "[9 6]\n",
            "[3 1]\n",
            "3\n"
          ]
        }
      ]
    },
    {
      "cell_type": "code",
      "source": [
        "x = [4,9,6,3,1]\n",
        "y = np.array(x)\n",
        "print(y)"
      ],
      "metadata": {
        "colab": {
          "base_uri": "https://localhost:8080/"
        },
        "id": "xLTHePptfrRH",
        "outputId": "37d2976a-e545-4cfe-a49e-184996d5e308"
      },
      "execution_count": null,
      "outputs": [
        {
          "output_type": "stream",
          "name": "stdout",
          "text": [
            "[4 9 6 3 1]\n"
          ]
        }
      ]
    },
    {
      "cell_type": "code",
      "source": [
        "my_index = np.array ([True,True,False,False, False])\n",
        "print(my_index)"
      ],
      "metadata": {
        "colab": {
          "base_uri": "https://localhost:8080/"
        },
        "id": "TkJPdlWMf1IH",
        "outputId": "36463942-fcf3-46ca-e153-ef52bea311eb"
      },
      "execution_count": null,
      "outputs": [
        {
          "output_type": "stream",
          "name": "stdout",
          "text": [
            "[ True  True False False False]\n"
          ]
        }
      ]
    },
    {
      "cell_type": "code",
      "source": [
        "y[my_index]"
      ],
      "metadata": {
        "colab": {
          "base_uri": "https://localhost:8080/"
        },
        "id": "ivfIn6kMgIUl",
        "outputId": "38070f7c-4233-40ea-ecd3-c2696bcb82c9"
      },
      "execution_count": null,
      "outputs": [
        {
          "output_type": "execute_result",
          "data": {
            "text/plain": [
              "array([4, 9])"
            ]
          },
          "metadata": {},
          "execution_count": 55
        }
      ]
    },
    {
      "cell_type": "code",
      "source": [
        "y"
      ],
      "metadata": {
        "colab": {
          "base_uri": "https://localhost:8080/"
        },
        "id": "Wb8FzpOPhUom",
        "outputId": "d42f5c56-9354-4532-e333-c8bd4d610c41"
      },
      "execution_count": null,
      "outputs": [
        {
          "output_type": "execute_result",
          "data": {
            "text/plain": [
              "array([4, 9, 6, 3, 1])"
            ]
          },
          "metadata": {},
          "execution_count": 56
        }
      ]
    },
    {
      "cell_type": "code",
      "source": [
        "high = y > 5\n",
        "print(high)"
      ],
      "metadata": {
        "colab": {
          "base_uri": "https://localhost:8080/"
        },
        "id": "Ub1e1cDxhV93",
        "outputId": "49b620a1-9d41-4743-8d18-56a34acdcfa8"
      },
      "execution_count": null,
      "outputs": [
        {
          "output_type": "stream",
          "name": "stdout",
          "text": [
            "[False  True  True False False]\n"
          ]
        }
      ]
    },
    {
      "cell_type": "code",
      "source": [
        "y[high]"
      ],
      "metadata": {
        "colab": {
          "base_uri": "https://localhost:8080/"
        },
        "id": "xkzE30p-hZJX",
        "outputId": "5fcc8815-b6ec-4ac8-96b0-64937811e07d"
      },
      "execution_count": null,
      "outputs": [
        {
          "output_type": "execute_result",
          "data": {
            "text/plain": [
              "array([9, 6])"
            ]
          },
          "metadata": {},
          "execution_count": 58
        }
      ]
    },
    {
      "cell_type": "code",
      "source": [
        "y[1]"
      ],
      "metadata": {
        "colab": {
          "base_uri": "https://localhost:8080/"
        },
        "id": "COh1YtULhb7p",
        "outputId": "0eff8803-3122-4eeb-e251-5a93a5f05971"
      },
      "execution_count": null,
      "outputs": [
        {
          "output_type": "execute_result",
          "data": {
            "text/plain": [
              "np.int64(9)"
            ]
          },
          "metadata": {},
          "execution_count": 63
        }
      ]
    },
    {
      "cell_type": "code",
      "source": [
        "y[[0,4,2]]"
      ],
      "metadata": {
        "colab": {
          "base_uri": "https://localhost:8080/"
        },
        "id": "mcF6N0-LjKFx",
        "outputId": "a56e8c26-9acc-4be8-a1cb-a6f6caf5940a"
      },
      "execution_count": null,
      "outputs": [
        {
          "output_type": "execute_result",
          "data": {
            "text/plain": [
              "array([4, 1, 6])"
            ]
          },
          "metadata": {},
          "execution_count": 60
        }
      ]
    },
    {
      "cell_type": "code",
      "source": [
        "y[[0,4,2,0,0,0,0]]"
      ],
      "metadata": {
        "colab": {
          "base_uri": "https://localhost:8080/"
        },
        "id": "Nak0T-y8jN57",
        "outputId": "170ae5cb-74a8-4950-9c9e-3914b20ff4f1"
      },
      "execution_count": null,
      "outputs": [
        {
          "output_type": "execute_result",
          "data": {
            "text/plain": [
              "array([4, 1, 6, 4, 4, 4, 4])"
            ]
          },
          "metadata": {},
          "execution_count": 61
        }
      ]
    },
    {
      "cell_type": "code",
      "source": [
        "product_A = [250,300,280,321]\n",
        "product_B = [180,200,190,210]\n",
        "\n",
        "list_2d = [product_A, product_B]\n",
        "print(list_2d)"
      ],
      "metadata": {
        "colab": {
          "base_uri": "https://localhost:8080/"
        },
        "id": "_Do-1DeDjXPU",
        "outputId": "559d3fea-6e00-4c2b-e478-376806c6736f"
      },
      "execution_count": null,
      "outputs": [
        {
          "output_type": "stream",
          "name": "stdout",
          "text": [
            "[[250, 300, 280, 321], [180, 200, 190, 210]]\n"
          ]
        }
      ]
    },
    {
      "cell_type": "code",
      "source": [
        "np_2d = np.array(list_2d)\n",
        "print(np_2d)"
      ],
      "metadata": {
        "colab": {
          "base_uri": "https://localhost:8080/"
        },
        "id": "bTqngddLjk6k",
        "outputId": "392f1204-e473-4a4a-f2d7-5b1509dcf495"
      },
      "execution_count": null,
      "outputs": [
        {
          "output_type": "stream",
          "name": "stdout",
          "text": [
            "[[250 300 280 321]\n",
            " [180 200 190 210]]\n"
          ]
        }
      ]
    },
    {
      "cell_type": "code",
      "source": [
        "np_2d.shape"
      ],
      "metadata": {
        "colab": {
          "base_uri": "https://localhost:8080/"
        },
        "id": "uPJglMh-jp19",
        "outputId": "912c2bf9-3565-4009-8012-05195c52fb44"
      },
      "execution_count": null,
      "outputs": [
        {
          "output_type": "execute_result",
          "data": {
            "text/plain": [
              "(2, 4)"
            ]
          },
          "metadata": {},
          "execution_count": 69
        }
      ]
    },
    {
      "cell_type": "markdown",
      "source": [
        "4.5.1 Indexing and Slicing"
      ],
      "metadata": {
        "id": "sdRfH1rslHpa"
      }
    },
    {
      "cell_type": "code",
      "source": [
        "# Select the height and weight of the third and fourth player\n",
        "np_2d[:,1:3] # : stands for all the rows\n",
        "# product A of the second and third region\n",
        "np_2d[0,1:3]"
      ],
      "metadata": {
        "colab": {
          "base_uri": "https://localhost:8080/"
        },
        "id": "ArmD1g8wlM2h",
        "outputId": "94123a0e-26ca-4a0c-ac57-165c9f56cdb0"
      },
      "execution_count": null,
      "outputs": [
        {
          "output_type": "execute_result",
          "data": {
            "text/plain": [
              "array([300, 280])"
            ]
          },
          "metadata": {},
          "execution_count": 70
        }
      ]
    },
    {
      "cell_type": "code",
      "source": [
        "# If you only want to retrieve the sales for product A\n",
        "np_2d[0,:] # it is equivalent to np_2d[0] which omits the column index\n",
        "np_2d[0, [0,2,3] ]"
      ],
      "metadata": {
        "colab": {
          "base_uri": "https://localhost:8080/"
        },
        "id": "1fvnkH7plW4U",
        "outputId": "62391206-25fb-40ee-9cd7-6f01698b224b"
      },
      "execution_count": null,
      "outputs": [
        {
          "output_type": "execute_result",
          "data": {
            "text/plain": [
              "array([250, 280, 321])"
            ]
          },
          "metadata": {},
          "execution_count": 72
        }
      ]
    },
    {
      "cell_type": "markdown",
      "source": [
        "4.5.2 Aggregation"
      ],
      "metadata": {
        "id": "fDF_fHAFlcJo"
      }
    },
    {
      "cell_type": "code",
      "source": [
        "print(np_2d[0,1:3])"
      ],
      "metadata": {
        "colab": {
          "base_uri": "https://localhost:8080/"
        },
        "id": "Ck1JKcfZnhGp",
        "outputId": "d3d77a68-d258-4c6f-94e4-11d811b7366e"
      },
      "execution_count": null,
      "outputs": [
        {
          "output_type": "stream",
          "name": "stdout",
          "text": [
            "[300 280]\n"
          ]
        }
      ]
    },
    {
      "cell_type": "code",
      "source": [
        "data = np.array([[1,2],[5,2],[4,6]])\n",
        "print(data)"
      ],
      "metadata": {
        "colab": {
          "base_uri": "https://localhost:8080/"
        },
        "id": "MB9xU7jQleAs",
        "outputId": "fc248500-2b08-4b54-a0d0-c7e67498e64d"
      },
      "execution_count": null,
      "outputs": [
        {
          "output_type": "stream",
          "name": "stdout",
          "text": [
            "[[1 2]\n",
            " [5 2]\n",
            " [4 6]]\n"
          ]
        }
      ]
    }
  ]
}